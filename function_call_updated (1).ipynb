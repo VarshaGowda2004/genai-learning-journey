{
 "cells": [
  {
   "cell_type": "code",
   "execution_count": 6,
   "id": "257e16ee-901a-485e-90cb-1961d10c7bce",
   "metadata": {},
   "outputs": [],
   "source": [
    "import openai"
   ]
  },
  {
   "cell_type": "code",
   "execution_count": 7,
   "id": "8ec54911-d7da-4df9-91b2-1ca0acfdee4b",
   "metadata": {},
   "outputs": [],
   "source": [
    "mykey=\"your_api_key\""
   ]
  },
  {
   "cell_type": "code",
   "execution_count": 8,
   "id": "bd9f6cf1-04fd-4568-8528-1c73eb4a1634",
   "metadata": {},
   "outputs": [],
   "source": [
    "openai.api_key=mykey"
   ]
  },
  {
   "cell_type": "code",
   "execution_count": 9,
   "id": "fce4aa95-2c31-48c3-b3f0-b35cff74d90a",
   "metadata": {},
   "outputs": [],
   "source": [
    "all_models=openai.models.list()"
   ]
  },
  {
   "cell_type": "code",
   "execution_count": 10,
   "id": "afbbab78-5aab-40df-8d8e-4ffe75cc38b6",
   "metadata": {},
   "outputs": [
    {
     "data": {
      "text/plain": [
       "[Model(id='text-embedding-ada-002', created=1671217299, object='model', owned_by='openai-internal'),\n",
       " Model(id='whisper-1', created=1677532384, object='model', owned_by='openai-internal'),\n",
       " Model(id='gpt-3.5-turbo', created=1677610602, object='model', owned_by='openai'),\n",
       " Model(id='tts-1', created=1681940951, object='model', owned_by='openai-internal'),\n",
       " Model(id='gpt-3.5-turbo-16k', created=1683758102, object='model', owned_by='openai-internal'),\n",
       " Model(id='davinci-002', created=1692634301, object='model', owned_by='system'),\n",
       " Model(id='babbage-002', created=1692634615, object='model', owned_by='system'),\n",
       " Model(id='gpt-3.5-turbo-instruct', created=1692901427, object='model', owned_by='system'),\n",
       " Model(id='gpt-3.5-turbo-instruct-0914', created=1694122472, object='model', owned_by='system'),\n",
       " Model(id='dall-e-3', created=1698785189, object='model', owned_by='system'),\n",
       " Model(id='dall-e-2', created=1698798177, object='model', owned_by='system'),\n",
       " Model(id='gpt-3.5-turbo-1106', created=1698959748, object='model', owned_by='system'),\n",
       " Model(id='tts-1-hd', created=1699046015, object='model', owned_by='system'),\n",
       " Model(id='tts-1-1106', created=1699053241, object='model', owned_by='system'),\n",
       " Model(id='tts-1-hd-1106', created=1699053533, object='model', owned_by='system'),\n",
       " Model(id='text-embedding-3-small', created=1705948997, object='model', owned_by='system'),\n",
       " Model(id='text-embedding-3-large', created=1705953180, object='model', owned_by='system'),\n",
       " Model(id='gpt-3.5-turbo-0125', created=1706048358, object='model', owned_by='system'),\n",
       " Model(id='gpt-4o', created=1715367049, object='model', owned_by='system'),\n",
       " Model(id='gpt-4o-2024-05-13', created=1715368132, object='model', owned_by='system'),\n",
       " Model(id='gpt-4o-mini-2024-07-18', created=1721172717, object='model', owned_by='system'),\n",
       " Model(id='gpt-4o-mini', created=1721172741, object='model', owned_by='system'),\n",
       " Model(id='gpt-4o-2024-08-06', created=1722814719, object='model', owned_by='system'),\n",
       " Model(id='o1-preview-2024-09-12', created=1725648865, object='model', owned_by='system'),\n",
       " Model(id='o1-preview', created=1725648897, object='model', owned_by='system'),\n",
       " Model(id='o1-mini-2024-09-12', created=1725648979, object='model', owned_by='system'),\n",
       " Model(id='o1-mini', created=1725649008, object='model', owned_by='system'),\n",
       " Model(id='gpt-4o-audio-preview-2024-10-01', created=1727389042, object='model', owned_by='system'),\n",
       " Model(id='gpt-4o-audio-preview', created=1727460443, object='model', owned_by='system'),\n",
       " Model(id='omni-moderation-latest', created=1731689265, object='model', owned_by='system'),\n",
       " Model(id='omni-moderation-2024-09-26', created=1732734466, object='model', owned_by='system'),\n",
       " Model(id='gpt-4o-audio-preview-2024-12-17', created=1734034239, object='model', owned_by='system'),\n",
       " Model(id='gpt-4o-mini-audio-preview-2024-12-17', created=1734115920, object='model', owned_by='system'),\n",
       " Model(id='gpt-4o-mini-audio-preview', created=1734387424, object='model', owned_by='system'),\n",
       " Model(id='gpt-4o-2024-11-20', created=1739331543, object='model', owned_by='system'),\n",
       " Model(id='gpt-4o-search-preview-2025-03-11', created=1741388170, object='model', owned_by='system'),\n",
       " Model(id='gpt-4o-search-preview', created=1741388720, object='model', owned_by='system'),\n",
       " Model(id='gpt-4o-mini-search-preview-2025-03-11', created=1741390858, object='model', owned_by='system'),\n",
       " Model(id='gpt-4o-mini-search-preview', created=1741391161, object='model', owned_by='system'),\n",
       " Model(id='gpt-4o-transcribe', created=1742068463, object='model', owned_by='system'),\n",
       " Model(id='gpt-4o-mini-transcribe', created=1742068596, object='model', owned_by='system'),\n",
       " Model(id='gpt-4o-mini-tts', created=1742403959, object='model', owned_by='system'),\n",
       " Model(id='gpt-4.1-2025-04-14', created=1744315746, object='model', owned_by='system'),\n",
       " Model(id='gpt-4.1', created=1744316542, object='model', owned_by='system'),\n",
       " Model(id='gpt-4.1-mini-2025-04-14', created=1744317547, object='model', owned_by='system'),\n",
       " Model(id='gpt-4.1-mini', created=1744318173, object='model', owned_by='system'),\n",
       " Model(id='gpt-4.1-nano-2025-04-14', created=1744321025, object='model', owned_by='system'),\n",
       " Model(id='gpt-4.1-nano', created=1744321707, object='model', owned_by='system'),\n",
       " Model(id='gpt-image-1', created=1745517030, object='model', owned_by='system'),\n",
       " Model(id='gpt-4o-audio-preview-2025-06-03', created=1748908498, object='model', owned_by='system')]"
      ]
     },
     "execution_count": 10,
     "metadata": {},
     "output_type": "execute_result"
    }
   ],
   "source": [
    "list(all_models)"
   ]
  },
  {
   "cell_type": "code",
   "execution_count": 11,
   "id": "f9a2b007-bbb1-4dc0-a104-05aa671a6e51",
   "metadata": {},
   "outputs": [
    {
     "data": {
      "text/html": [
       "<div>\n",
       "<style scoped>\n",
       "    .dataframe tbody tr th:only-of-type {\n",
       "        vertical-align: middle;\n",
       "    }\n",
       "\n",
       "    .dataframe tbody tr th {\n",
       "        vertical-align: top;\n",
       "    }\n",
       "\n",
       "    .dataframe thead th {\n",
       "        text-align: right;\n",
       "    }\n",
       "</style>\n",
       "<table border=\"1\" class=\"dataframe\">\n",
       "  <thead>\n",
       "    <tr style=\"text-align: right;\">\n",
       "      <th></th>\n",
       "      <th>id</th>\n",
       "      <th>created</th>\n",
       "      <th>object</th>\n",
       "      <th>owned_by</th>\n",
       "    </tr>\n",
       "  </thead>\n",
       "  <tbody>\n",
       "    <tr>\n",
       "      <th>0</th>\n",
       "      <td>(id, text-embedding-ada-002)</td>\n",
       "      <td>(created, 1671217299)</td>\n",
       "      <td>(object, model)</td>\n",
       "      <td>(owned_by, openai-internal)</td>\n",
       "    </tr>\n",
       "    <tr>\n",
       "      <th>1</th>\n",
       "      <td>(id, whisper-1)</td>\n",
       "      <td>(created, 1677532384)</td>\n",
       "      <td>(object, model)</td>\n",
       "      <td>(owned_by, openai-internal)</td>\n",
       "    </tr>\n",
       "    <tr>\n",
       "      <th>2</th>\n",
       "      <td>(id, gpt-3.5-turbo)</td>\n",
       "      <td>(created, 1677610602)</td>\n",
       "      <td>(object, model)</td>\n",
       "      <td>(owned_by, openai)</td>\n",
       "    </tr>\n",
       "    <tr>\n",
       "      <th>3</th>\n",
       "      <td>(id, tts-1)</td>\n",
       "      <td>(created, 1681940951)</td>\n",
       "      <td>(object, model)</td>\n",
       "      <td>(owned_by, openai-internal)</td>\n",
       "    </tr>\n",
       "    <tr>\n",
       "      <th>4</th>\n",
       "      <td>(id, gpt-3.5-turbo-16k)</td>\n",
       "      <td>(created, 1683758102)</td>\n",
       "      <td>(object, model)</td>\n",
       "      <td>(owned_by, openai-internal)</td>\n",
       "    </tr>\n",
       "    <tr>\n",
       "      <th>5</th>\n",
       "      <td>(id, davinci-002)</td>\n",
       "      <td>(created, 1692634301)</td>\n",
       "      <td>(object, model)</td>\n",
       "      <td>(owned_by, system)</td>\n",
       "    </tr>\n",
       "    <tr>\n",
       "      <th>6</th>\n",
       "      <td>(id, babbage-002)</td>\n",
       "      <td>(created, 1692634615)</td>\n",
       "      <td>(object, model)</td>\n",
       "      <td>(owned_by, system)</td>\n",
       "    </tr>\n",
       "    <tr>\n",
       "      <th>7</th>\n",
       "      <td>(id, gpt-3.5-turbo-instruct)</td>\n",
       "      <td>(created, 1692901427)</td>\n",
       "      <td>(object, model)</td>\n",
       "      <td>(owned_by, system)</td>\n",
       "    </tr>\n",
       "    <tr>\n",
       "      <th>8</th>\n",
       "      <td>(id, gpt-3.5-turbo-instruct-0914)</td>\n",
       "      <td>(created, 1694122472)</td>\n",
       "      <td>(object, model)</td>\n",
       "      <td>(owned_by, system)</td>\n",
       "    </tr>\n",
       "    <tr>\n",
       "      <th>9</th>\n",
       "      <td>(id, dall-e-3)</td>\n",
       "      <td>(created, 1698785189)</td>\n",
       "      <td>(object, model)</td>\n",
       "      <td>(owned_by, system)</td>\n",
       "    </tr>\n",
       "    <tr>\n",
       "      <th>10</th>\n",
       "      <td>(id, dall-e-2)</td>\n",
       "      <td>(created, 1698798177)</td>\n",
       "      <td>(object, model)</td>\n",
       "      <td>(owned_by, system)</td>\n",
       "    </tr>\n",
       "    <tr>\n",
       "      <th>11</th>\n",
       "      <td>(id, gpt-3.5-turbo-1106)</td>\n",
       "      <td>(created, 1698959748)</td>\n",
       "      <td>(object, model)</td>\n",
       "      <td>(owned_by, system)</td>\n",
       "    </tr>\n",
       "    <tr>\n",
       "      <th>12</th>\n",
       "      <td>(id, tts-1-hd)</td>\n",
       "      <td>(created, 1699046015)</td>\n",
       "      <td>(object, model)</td>\n",
       "      <td>(owned_by, system)</td>\n",
       "    </tr>\n",
       "    <tr>\n",
       "      <th>13</th>\n",
       "      <td>(id, tts-1-1106)</td>\n",
       "      <td>(created, 1699053241)</td>\n",
       "      <td>(object, model)</td>\n",
       "      <td>(owned_by, system)</td>\n",
       "    </tr>\n",
       "    <tr>\n",
       "      <th>14</th>\n",
       "      <td>(id, tts-1-hd-1106)</td>\n",
       "      <td>(created, 1699053533)</td>\n",
       "      <td>(object, model)</td>\n",
       "      <td>(owned_by, system)</td>\n",
       "    </tr>\n",
       "    <tr>\n",
       "      <th>15</th>\n",
       "      <td>(id, text-embedding-3-small)</td>\n",
       "      <td>(created, 1705948997)</td>\n",
       "      <td>(object, model)</td>\n",
       "      <td>(owned_by, system)</td>\n",
       "    </tr>\n",
       "    <tr>\n",
       "      <th>16</th>\n",
       "      <td>(id, text-embedding-3-large)</td>\n",
       "      <td>(created, 1705953180)</td>\n",
       "      <td>(object, model)</td>\n",
       "      <td>(owned_by, system)</td>\n",
       "    </tr>\n",
       "    <tr>\n",
       "      <th>17</th>\n",
       "      <td>(id, gpt-3.5-turbo-0125)</td>\n",
       "      <td>(created, 1706048358)</td>\n",
       "      <td>(object, model)</td>\n",
       "      <td>(owned_by, system)</td>\n",
       "    </tr>\n",
       "    <tr>\n",
       "      <th>18</th>\n",
       "      <td>(id, gpt-4o)</td>\n",
       "      <td>(created, 1715367049)</td>\n",
       "      <td>(object, model)</td>\n",
       "      <td>(owned_by, system)</td>\n",
       "    </tr>\n",
       "    <tr>\n",
       "      <th>19</th>\n",
       "      <td>(id, gpt-4o-2024-05-13)</td>\n",
       "      <td>(created, 1715368132)</td>\n",
       "      <td>(object, model)</td>\n",
       "      <td>(owned_by, system)</td>\n",
       "    </tr>\n",
       "    <tr>\n",
       "      <th>20</th>\n",
       "      <td>(id, gpt-4o-mini-2024-07-18)</td>\n",
       "      <td>(created, 1721172717)</td>\n",
       "      <td>(object, model)</td>\n",
       "      <td>(owned_by, system)</td>\n",
       "    </tr>\n",
       "    <tr>\n",
       "      <th>21</th>\n",
       "      <td>(id, gpt-4o-mini)</td>\n",
       "      <td>(created, 1721172741)</td>\n",
       "      <td>(object, model)</td>\n",
       "      <td>(owned_by, system)</td>\n",
       "    </tr>\n",
       "    <tr>\n",
       "      <th>22</th>\n",
       "      <td>(id, gpt-4o-2024-08-06)</td>\n",
       "      <td>(created, 1722814719)</td>\n",
       "      <td>(object, model)</td>\n",
       "      <td>(owned_by, system)</td>\n",
       "    </tr>\n",
       "    <tr>\n",
       "      <th>23</th>\n",
       "      <td>(id, o1-preview-2024-09-12)</td>\n",
       "      <td>(created, 1725648865)</td>\n",
       "      <td>(object, model)</td>\n",
       "      <td>(owned_by, system)</td>\n",
       "    </tr>\n",
       "    <tr>\n",
       "      <th>24</th>\n",
       "      <td>(id, o1-preview)</td>\n",
       "      <td>(created, 1725648897)</td>\n",
       "      <td>(object, model)</td>\n",
       "      <td>(owned_by, system)</td>\n",
       "    </tr>\n",
       "    <tr>\n",
       "      <th>25</th>\n",
       "      <td>(id, o1-mini-2024-09-12)</td>\n",
       "      <td>(created, 1725648979)</td>\n",
       "      <td>(object, model)</td>\n",
       "      <td>(owned_by, system)</td>\n",
       "    </tr>\n",
       "    <tr>\n",
       "      <th>26</th>\n",
       "      <td>(id, o1-mini)</td>\n",
       "      <td>(created, 1725649008)</td>\n",
       "      <td>(object, model)</td>\n",
       "      <td>(owned_by, system)</td>\n",
       "    </tr>\n",
       "    <tr>\n",
       "      <th>27</th>\n",
       "      <td>(id, gpt-4o-audio-preview-2024-10-01)</td>\n",
       "      <td>(created, 1727389042)</td>\n",
       "      <td>(object, model)</td>\n",
       "      <td>(owned_by, system)</td>\n",
       "    </tr>\n",
       "    <tr>\n",
       "      <th>28</th>\n",
       "      <td>(id, gpt-4o-audio-preview)</td>\n",
       "      <td>(created, 1727460443)</td>\n",
       "      <td>(object, model)</td>\n",
       "      <td>(owned_by, system)</td>\n",
       "    </tr>\n",
       "    <tr>\n",
       "      <th>29</th>\n",
       "      <td>(id, omni-moderation-latest)</td>\n",
       "      <td>(created, 1731689265)</td>\n",
       "      <td>(object, model)</td>\n",
       "      <td>(owned_by, system)</td>\n",
       "    </tr>\n",
       "    <tr>\n",
       "      <th>30</th>\n",
       "      <td>(id, omni-moderation-2024-09-26)</td>\n",
       "      <td>(created, 1732734466)</td>\n",
       "      <td>(object, model)</td>\n",
       "      <td>(owned_by, system)</td>\n",
       "    </tr>\n",
       "    <tr>\n",
       "      <th>31</th>\n",
       "      <td>(id, gpt-4o-audio-preview-2024-12-17)</td>\n",
       "      <td>(created, 1734034239)</td>\n",
       "      <td>(object, model)</td>\n",
       "      <td>(owned_by, system)</td>\n",
       "    </tr>\n",
       "    <tr>\n",
       "      <th>32</th>\n",
       "      <td>(id, gpt-4o-mini-audio-preview-2024-12-17)</td>\n",
       "      <td>(created, 1734115920)</td>\n",
       "      <td>(object, model)</td>\n",
       "      <td>(owned_by, system)</td>\n",
       "    </tr>\n",
       "    <tr>\n",
       "      <th>33</th>\n",
       "      <td>(id, gpt-4o-mini-audio-preview)</td>\n",
       "      <td>(created, 1734387424)</td>\n",
       "      <td>(object, model)</td>\n",
       "      <td>(owned_by, system)</td>\n",
       "    </tr>\n",
       "    <tr>\n",
       "      <th>34</th>\n",
       "      <td>(id, gpt-4o-2024-11-20)</td>\n",
       "      <td>(created, 1739331543)</td>\n",
       "      <td>(object, model)</td>\n",
       "      <td>(owned_by, system)</td>\n",
       "    </tr>\n",
       "    <tr>\n",
       "      <th>35</th>\n",
       "      <td>(id, gpt-4o-search-preview-2025-03-11)</td>\n",
       "      <td>(created, 1741388170)</td>\n",
       "      <td>(object, model)</td>\n",
       "      <td>(owned_by, system)</td>\n",
       "    </tr>\n",
       "    <tr>\n",
       "      <th>36</th>\n",
       "      <td>(id, gpt-4o-search-preview)</td>\n",
       "      <td>(created, 1741388720)</td>\n",
       "      <td>(object, model)</td>\n",
       "      <td>(owned_by, system)</td>\n",
       "    </tr>\n",
       "    <tr>\n",
       "      <th>37</th>\n",
       "      <td>(id, gpt-4o-mini-search-preview-2025-03-11)</td>\n",
       "      <td>(created, 1741390858)</td>\n",
       "      <td>(object, model)</td>\n",
       "      <td>(owned_by, system)</td>\n",
       "    </tr>\n",
       "    <tr>\n",
       "      <th>38</th>\n",
       "      <td>(id, gpt-4o-mini-search-preview)</td>\n",
       "      <td>(created, 1741391161)</td>\n",
       "      <td>(object, model)</td>\n",
       "      <td>(owned_by, system)</td>\n",
       "    </tr>\n",
       "    <tr>\n",
       "      <th>39</th>\n",
       "      <td>(id, gpt-4o-transcribe)</td>\n",
       "      <td>(created, 1742068463)</td>\n",
       "      <td>(object, model)</td>\n",
       "      <td>(owned_by, system)</td>\n",
       "    </tr>\n",
       "    <tr>\n",
       "      <th>40</th>\n",
       "      <td>(id, gpt-4o-mini-transcribe)</td>\n",
       "      <td>(created, 1742068596)</td>\n",
       "      <td>(object, model)</td>\n",
       "      <td>(owned_by, system)</td>\n",
       "    </tr>\n",
       "    <tr>\n",
       "      <th>41</th>\n",
       "      <td>(id, gpt-4o-mini-tts)</td>\n",
       "      <td>(created, 1742403959)</td>\n",
       "      <td>(object, model)</td>\n",
       "      <td>(owned_by, system)</td>\n",
       "    </tr>\n",
       "    <tr>\n",
       "      <th>42</th>\n",
       "      <td>(id, gpt-4.1-2025-04-14)</td>\n",
       "      <td>(created, 1744315746)</td>\n",
       "      <td>(object, model)</td>\n",
       "      <td>(owned_by, system)</td>\n",
       "    </tr>\n",
       "    <tr>\n",
       "      <th>43</th>\n",
       "      <td>(id, gpt-4.1)</td>\n",
       "      <td>(created, 1744316542)</td>\n",
       "      <td>(object, model)</td>\n",
       "      <td>(owned_by, system)</td>\n",
       "    </tr>\n",
       "    <tr>\n",
       "      <th>44</th>\n",
       "      <td>(id, gpt-4.1-mini-2025-04-14)</td>\n",
       "      <td>(created, 1744317547)</td>\n",
       "      <td>(object, model)</td>\n",
       "      <td>(owned_by, system)</td>\n",
       "    </tr>\n",
       "    <tr>\n",
       "      <th>45</th>\n",
       "      <td>(id, gpt-4.1-mini)</td>\n",
       "      <td>(created, 1744318173)</td>\n",
       "      <td>(object, model)</td>\n",
       "      <td>(owned_by, system)</td>\n",
       "    </tr>\n",
       "    <tr>\n",
       "      <th>46</th>\n",
       "      <td>(id, gpt-4.1-nano-2025-04-14)</td>\n",
       "      <td>(created, 1744321025)</td>\n",
       "      <td>(object, model)</td>\n",
       "      <td>(owned_by, system)</td>\n",
       "    </tr>\n",
       "    <tr>\n",
       "      <th>47</th>\n",
       "      <td>(id, gpt-4.1-nano)</td>\n",
       "      <td>(created, 1744321707)</td>\n",
       "      <td>(object, model)</td>\n",
       "      <td>(owned_by, system)</td>\n",
       "    </tr>\n",
       "    <tr>\n",
       "      <th>48</th>\n",
       "      <td>(id, gpt-image-1)</td>\n",
       "      <td>(created, 1745517030)</td>\n",
       "      <td>(object, model)</td>\n",
       "      <td>(owned_by, system)</td>\n",
       "    </tr>\n",
       "    <tr>\n",
       "      <th>49</th>\n",
       "      <td>(id, gpt-4o-audio-preview-2025-06-03)</td>\n",
       "      <td>(created, 1748908498)</td>\n",
       "      <td>(object, model)</td>\n",
       "      <td>(owned_by, system)</td>\n",
       "    </tr>\n",
       "  </tbody>\n",
       "</table>\n",
       "</div>"
      ],
      "text/plain": [
       "                                             id                created  \\\n",
       "0                  (id, text-embedding-ada-002)  (created, 1671217299)   \n",
       "1                               (id, whisper-1)  (created, 1677532384)   \n",
       "2                           (id, gpt-3.5-turbo)  (created, 1677610602)   \n",
       "3                                   (id, tts-1)  (created, 1681940951)   \n",
       "4                       (id, gpt-3.5-turbo-16k)  (created, 1683758102)   \n",
       "5                             (id, davinci-002)  (created, 1692634301)   \n",
       "6                             (id, babbage-002)  (created, 1692634615)   \n",
       "7                  (id, gpt-3.5-turbo-instruct)  (created, 1692901427)   \n",
       "8             (id, gpt-3.5-turbo-instruct-0914)  (created, 1694122472)   \n",
       "9                                (id, dall-e-3)  (created, 1698785189)   \n",
       "10                               (id, dall-e-2)  (created, 1698798177)   \n",
       "11                     (id, gpt-3.5-turbo-1106)  (created, 1698959748)   \n",
       "12                               (id, tts-1-hd)  (created, 1699046015)   \n",
       "13                             (id, tts-1-1106)  (created, 1699053241)   \n",
       "14                          (id, tts-1-hd-1106)  (created, 1699053533)   \n",
       "15                 (id, text-embedding-3-small)  (created, 1705948997)   \n",
       "16                 (id, text-embedding-3-large)  (created, 1705953180)   \n",
       "17                     (id, gpt-3.5-turbo-0125)  (created, 1706048358)   \n",
       "18                                 (id, gpt-4o)  (created, 1715367049)   \n",
       "19                      (id, gpt-4o-2024-05-13)  (created, 1715368132)   \n",
       "20                 (id, gpt-4o-mini-2024-07-18)  (created, 1721172717)   \n",
       "21                            (id, gpt-4o-mini)  (created, 1721172741)   \n",
       "22                      (id, gpt-4o-2024-08-06)  (created, 1722814719)   \n",
       "23                  (id, o1-preview-2024-09-12)  (created, 1725648865)   \n",
       "24                             (id, o1-preview)  (created, 1725648897)   \n",
       "25                     (id, o1-mini-2024-09-12)  (created, 1725648979)   \n",
       "26                                (id, o1-mini)  (created, 1725649008)   \n",
       "27        (id, gpt-4o-audio-preview-2024-10-01)  (created, 1727389042)   \n",
       "28                   (id, gpt-4o-audio-preview)  (created, 1727460443)   \n",
       "29                 (id, omni-moderation-latest)  (created, 1731689265)   \n",
       "30             (id, omni-moderation-2024-09-26)  (created, 1732734466)   \n",
       "31        (id, gpt-4o-audio-preview-2024-12-17)  (created, 1734034239)   \n",
       "32   (id, gpt-4o-mini-audio-preview-2024-12-17)  (created, 1734115920)   \n",
       "33              (id, gpt-4o-mini-audio-preview)  (created, 1734387424)   \n",
       "34                      (id, gpt-4o-2024-11-20)  (created, 1739331543)   \n",
       "35       (id, gpt-4o-search-preview-2025-03-11)  (created, 1741388170)   \n",
       "36                  (id, gpt-4o-search-preview)  (created, 1741388720)   \n",
       "37  (id, gpt-4o-mini-search-preview-2025-03-11)  (created, 1741390858)   \n",
       "38             (id, gpt-4o-mini-search-preview)  (created, 1741391161)   \n",
       "39                      (id, gpt-4o-transcribe)  (created, 1742068463)   \n",
       "40                 (id, gpt-4o-mini-transcribe)  (created, 1742068596)   \n",
       "41                        (id, gpt-4o-mini-tts)  (created, 1742403959)   \n",
       "42                     (id, gpt-4.1-2025-04-14)  (created, 1744315746)   \n",
       "43                                (id, gpt-4.1)  (created, 1744316542)   \n",
       "44                (id, gpt-4.1-mini-2025-04-14)  (created, 1744317547)   \n",
       "45                           (id, gpt-4.1-mini)  (created, 1744318173)   \n",
       "46                (id, gpt-4.1-nano-2025-04-14)  (created, 1744321025)   \n",
       "47                           (id, gpt-4.1-nano)  (created, 1744321707)   \n",
       "48                            (id, gpt-image-1)  (created, 1745517030)   \n",
       "49        (id, gpt-4o-audio-preview-2025-06-03)  (created, 1748908498)   \n",
       "\n",
       "             object                     owned_by  \n",
       "0   (object, model)  (owned_by, openai-internal)  \n",
       "1   (object, model)  (owned_by, openai-internal)  \n",
       "2   (object, model)           (owned_by, openai)  \n",
       "3   (object, model)  (owned_by, openai-internal)  \n",
       "4   (object, model)  (owned_by, openai-internal)  \n",
       "5   (object, model)           (owned_by, system)  \n",
       "6   (object, model)           (owned_by, system)  \n",
       "7   (object, model)           (owned_by, system)  \n",
       "8   (object, model)           (owned_by, system)  \n",
       "9   (object, model)           (owned_by, system)  \n",
       "10  (object, model)           (owned_by, system)  \n",
       "11  (object, model)           (owned_by, system)  \n",
       "12  (object, model)           (owned_by, system)  \n",
       "13  (object, model)           (owned_by, system)  \n",
       "14  (object, model)           (owned_by, system)  \n",
       "15  (object, model)           (owned_by, system)  \n",
       "16  (object, model)           (owned_by, system)  \n",
       "17  (object, model)           (owned_by, system)  \n",
       "18  (object, model)           (owned_by, system)  \n",
       "19  (object, model)           (owned_by, system)  \n",
       "20  (object, model)           (owned_by, system)  \n",
       "21  (object, model)           (owned_by, system)  \n",
       "22  (object, model)           (owned_by, system)  \n",
       "23  (object, model)           (owned_by, system)  \n",
       "24  (object, model)           (owned_by, system)  \n",
       "25  (object, model)           (owned_by, system)  \n",
       "26  (object, model)           (owned_by, system)  \n",
       "27  (object, model)           (owned_by, system)  \n",
       "28  (object, model)           (owned_by, system)  \n",
       "29  (object, model)           (owned_by, system)  \n",
       "30  (object, model)           (owned_by, system)  \n",
       "31  (object, model)           (owned_by, system)  \n",
       "32  (object, model)           (owned_by, system)  \n",
       "33  (object, model)           (owned_by, system)  \n",
       "34  (object, model)           (owned_by, system)  \n",
       "35  (object, model)           (owned_by, system)  \n",
       "36  (object, model)           (owned_by, system)  \n",
       "37  (object, model)           (owned_by, system)  \n",
       "38  (object, model)           (owned_by, system)  \n",
       "39  (object, model)           (owned_by, system)  \n",
       "40  (object, model)           (owned_by, system)  \n",
       "41  (object, model)           (owned_by, system)  \n",
       "42  (object, model)           (owned_by, system)  \n",
       "43  (object, model)           (owned_by, system)  \n",
       "44  (object, model)           (owned_by, system)  \n",
       "45  (object, model)           (owned_by, system)  \n",
       "46  (object, model)           (owned_by, system)  \n",
       "47  (object, model)           (owned_by, system)  \n",
       "48  (object, model)           (owned_by, system)  \n",
       "49  (object, model)           (owned_by, system)  "
      ]
     },
     "execution_count": 11,
     "metadata": {},
     "output_type": "execute_result"
    }
   ],
   "source": [
    "import pandas as pd\n",
    "pd.DataFrame(list(all_models),columns=[\"id\",\"created\",\"object\",\"owned_by\"])"
   ]
  },
  {
   "cell_type": "code",
   "execution_count": 12,
   "id": "e6db6645-e372-450f-9577-99e56e692889",
   "metadata": {},
   "outputs": [],
   "source": [
    "from openai import OpenAI\n",
    "client = OpenAI(api_key=mykey)"
   ]
  },
  {
   "cell_type": "code",
   "execution_count": 13,
   "id": "08b32bfe-9344-45c5-a6b3-8252c5649dff",
   "metadata": {},
   "outputs": [],
   "source": [
    "\n",
    "from openai import OpenAI\n",
    "\n",
    "client = OpenAI(api_key=mykey)\n",
    "\n",
    "response = client.chat.completions.create(\n",
    "    model=\"gpt-3.5-turbo\",\n",
    "    messages=[{\"role\": \"user\", \"content\": \"who won the first cricket worldcup\"}],\n",
    "    max_tokens=100,\n",
    "    n=3     #no of o/p\n",
    ")\n"
   ]
  },
  {
   "cell_type": "code",
   "execution_count": 14,
   "id": "1dd3dc0e-0ecd-4bed-b361-f90e019ef0dc",
   "metadata": {},
   "outputs": [
    {
     "data": {
      "text/plain": [
       "ChatCompletion(id='chatcmpl-BxAGu7yxtlv5Nu3wqBQmo2AYlu1IC', choices=[Choice(finish_reason='stop', index=0, logprobs=None, message=ChatCompletionMessage(content='The West Indies cricket team won the first Cricket World Cup in 1975.', refusal=None, role='assistant', annotations=[], audio=None, function_call=None, tool_calls=None)), Choice(finish_reason='stop', index=1, logprobs=None, message=ChatCompletionMessage(content='The first Cricket World Cup was won by the West Indies cricket team in 1975. They defeated Australia in the final to become the inaugural champions.', refusal=None, role='assistant', annotations=[], audio=None, function_call=None, tool_calls=None)), Choice(finish_reason='stop', index=2, logprobs=None, message=ChatCompletionMessage(content='The first Cricket World Cup was won by the West Indies team in 1975. They defeated Australia in the final to claim the title.', refusal=None, role='assistant', annotations=[], audio=None, function_call=None, tool_calls=None))], created=1753440536, model='gpt-3.5-turbo-0125', object='chat.completion', service_tier='default', system_fingerprint=None, usage=CompletionUsage(completion_tokens=74, prompt_tokens=14, total_tokens=88, completion_tokens_details=CompletionTokensDetails(accepted_prediction_tokens=0, audio_tokens=0, reasoning_tokens=0, rejected_prediction_tokens=0), prompt_tokens_details=PromptTokensDetails(audio_tokens=0, cached_tokens=0)))"
      ]
     },
     "execution_count": 14,
     "metadata": {},
     "output_type": "execute_result"
    }
   ],
   "source": [
    "response"
   ]
  },
  {
   "cell_type": "code",
   "execution_count": 15,
   "id": "56e12789-bf5b-4aa2-bbb0-f1e99592ae4d",
   "metadata": {},
   "outputs": [
    {
     "data": {
      "text/plain": [
       "openai.types.chat.chat_completion.ChatCompletion"
      ]
     },
     "execution_count": 15,
     "metadata": {},
     "output_type": "execute_result"
    }
   ],
   "source": [
    "type(response)"
   ]
  },
  {
   "cell_type": "code",
   "execution_count": 16,
   "id": "dba02356-1e3c-4af3-94be-bea9f739d825",
   "metadata": {},
   "outputs": [
    {
     "data": {
      "text/plain": [
       "'The West Indies cricket team won the first Cricket World Cup in 1975.'"
      ]
     },
     "execution_count": 16,
     "metadata": {},
     "output_type": "execute_result"
    }
   ],
   "source": [
    "response.choices[0].message.content"
   ]
  },
  {
   "cell_type": "code",
   "execution_count": 17,
   "id": "f5263099-0b2a-4b34-9262-871d4d5ecd30",
   "metadata": {},
   "outputs": [],
   "source": [
    "import langchain\n"
   ]
  },
  {
   "cell_type": "code",
   "execution_count": 18,
   "id": "002ad4d1-9f17-4697-96ee-2965090468f2",
   "metadata": {},
   "outputs": [],
   "source": [
    "student_description=\"Varsha is an AI/ML enthusiast, learning happily. She loves building solutions to real-world problems. She is studying at SVCE and has secured an 8.5 CGPA.\""
   ]
  },
  {
   "cell_type": "code",
   "execution_count": 19,
   "id": "1b518d20-e3be-4968-ada3-154f9da07f99",
   "metadata": {},
   "outputs": [
    {
     "data": {
      "text/plain": [
       "'Varsha is an AI/ML enthusiast, learning happily. She loves building solutions to real-world problems. She is studying at SVCE and has secured an 8.5 CGPA.'"
      ]
     },
     "execution_count": 19,
     "metadata": {},
     "output_type": "execute_result"
    }
   ],
   "source": [
    "student_description"
   ]
  },
  {
   "cell_type": "code",
   "execution_count": 20,
   "id": "6d9a9323-010f-457e-ae8c-55024ae8e801",
   "metadata": {},
   "outputs": [],
   "source": [
    "#simple prompt to extract info from student_description in json format\n",
    "prompt=f'''\n",
    "Please extract the following information from the given text and return it as a JSON object:\n",
    "\n",
    "name\n",
    "grade\n",
    "college\n",
    "\n",
    "This is the body of the text to extract the information from:\n",
    "{student_description}\n",
    "'''"
   ]
  },
  {
   "cell_type": "code",
   "execution_count": 21,
   "id": "c6c8053e-cdf2-4110-b569-84c5017a4637",
   "metadata": {},
   "outputs": [
    {
     "data": {
      "text/plain": [
       "'\\nPlease extract the following information from the given text and return it as a JSON object:\\n\\nname\\ngrade\\ncollege\\n\\nThis is the body of the text to extract the information from:\\nVarsha is an AI/ML enthusiast, learning happily. She loves building solutions to real-world problems. She is studying at SVCE and has secured an 8.5 CGPA.\\n'"
      ]
     },
     "execution_count": 21,
     "metadata": {},
     "output_type": "execute_result"
    }
   ],
   "source": [
    "prompt"
   ]
  },
  {
   "cell_type": "code",
   "execution_count": 22,
   "id": "ae23a7f1-8f64-4610-8261-2e1eb6e0630b",
   "metadata": {},
   "outputs": [],
   "source": [
    "from openai import OpenAI\n",
    "client=OpenAI(api_key=mykey)\n"
   ]
  },
  {
   "cell_type": "code",
   "execution_count": 23,
   "id": "34d8ec19-7d1c-49ba-8fbd-184e25486a5d",
   "metadata": {},
   "outputs": [
    {
     "data": {
      "text/plain": [
       "<openai.OpenAI at 0x11cdc5f9240>"
      ]
     },
     "execution_count": 23,
     "metadata": {},
     "output_type": "execute_result"
    }
   ],
   "source": [
    "client"
   ]
  },
  {
   "cell_type": "code",
   "execution_count": 24,
   "id": "8b15a71e-e83a-428c-af60-9877461c0f5d",
   "metadata": {},
   "outputs": [],
   "source": [
    "response = client. chat.completions.create(\n",
    "    model=\"gpt-3.5-turbo\",\n",
    "    messages=[\n",
    "        {\n",
    "             \"role\": \"user\",\n",
    "             \"content\": prompt\n",
    "        }\n",
    "])"
   ]
  },
  {
   "cell_type": "code",
   "execution_count": 25,
   "id": "e1ae5e8c-8d32-4ac1-84b0-f253d32f41df",
   "metadata": {},
   "outputs": [
    {
     "data": {
      "text/plain": [
       "ChatCompletion(id='chatcmpl-BxAH5RAXPZovIVIo63VbrxERozSby', choices=[Choice(finish_reason='stop', index=0, logprobs=None, message=ChatCompletionMessage(content='{\\n  \"name\": \"Varsha\",\\n  \"grade\": \"8.5 CGPA\",\\n  \"college\": \"SVCE\"\\n}', refusal=None, role='assistant', annotations=[], audio=None, function_call=None, tool_calls=None))], created=1753440547, model='gpt-3.5-turbo-0125', object='chat.completion', service_tier='default', system_fingerprint=None, usage=CompletionUsage(completion_tokens=29, prompt_tokens=82, total_tokens=111, completion_tokens_details=CompletionTokensDetails(accepted_prediction_tokens=0, audio_tokens=0, reasoning_tokens=0, rejected_prediction_tokens=0), prompt_tokens_details=PromptTokensDetails(audio_tokens=0, cached_tokens=0)))"
      ]
     },
     "execution_count": 25,
     "metadata": {},
     "output_type": "execute_result"
    }
   ],
   "source": [
    "response"
   ]
  },
  {
   "cell_type": "code",
   "execution_count": 26,
   "id": "2f3a9fef-93c1-4b11-b919-cb405d1f5091",
   "metadata": {},
   "outputs": [],
   "source": [
    "output=response.choices[0].message.content"
   ]
  },
  {
   "cell_type": "code",
   "execution_count": 27,
   "id": "db00146f-84b5-4a4b-ac4d-d28599f25843",
   "metadata": {},
   "outputs": [
    {
     "data": {
      "text/plain": [
       "'{\\n  \"name\": \"Varsha\",\\n  \"grade\": \"8.5 CGPA\",\\n  \"college\": \"SVCE\"\\n}'"
      ]
     },
     "execution_count": 27,
     "metadata": {},
     "output_type": "execute_result"
    }
   ],
   "source": [
    "output"
   ]
  },
  {
   "cell_type": "code",
   "execution_count": 28,
   "id": "37918c13-994e-44ff-ba1c-2d3fcd944ad0",
   "metadata": {},
   "outputs": [
    {
     "data": {
      "text/plain": [
       "{'name': 'Varsha', 'grade': '8.5 CGPA', 'college': 'SVCE'}"
      ]
     },
     "execution_count": 28,
     "metadata": {},
     "output_type": "execute_result"
    }
   ],
   "source": [
    "import json\n",
    "json.loads(output)"
   ]
  },
  {
   "cell_type": "code",
   "execution_count": 34,
   "id": "12a41534-cdf7-4c9f-9e46-d486d6db3f3f",
   "metadata": {},
   "outputs": [],
   "source": [
    "#basic use of function calling\n",
    "student_function= [{\n",
    "    \"name\": \"extract_student_info\",\n",
    "    \"description\": \"get the student info from the body of the input text.\",\n",
    "    \"parameters\": {\n",
    "        \"type\":\"object\",\n",
    "        \"properties\":{\n",
    "            \"name\":{\n",
    "                \"type\":\"string\",\n",
    "                \"description\":\"name of the person\" },\n",
    "            \"grade\":{\n",
    "                 \"type\":\"string\",\n",
    "                \"description\":\"grade of the person\"},\n",
    "             \"college\":{\n",
    "                \"type\":\"string\",\n",
    "                \"description\":\"college of the person\"},\n",
    "    },\n",
    "     \"required\": [\"name\", \"college\", \"grade\"]\n",
    "            }}]\n",
    "            \n",
    "    \n",
    "        \n",
    "    \n",
    "       "
   ]
  },
  {
   "cell_type": "code",
   "execution_count": 30,
   "id": "7b8b3e60-5c5e-4996-bf58-aa6ed78e1abe",
   "metadata": {},
   "outputs": [],
   "source": [
    "response2 = client.chat.completions.create(\n",
    "    model=\"gpt-3.5-turbo\",\n",
    "    messages=[{\"role\": \"user\", \"content\": prompt}],\n",
    "    functions=student_function,\n",
    "    function_call={\"name\": \"extract_student_info\"}\n",
    ")\n"
   ]
  },
  {
   "cell_type": "code",
   "execution_count": 31,
   "id": "0dd3df84-cf28-43e7-8344-615e4e973d29",
   "metadata": {},
   "outputs": [
    {
     "data": {
      "text/plain": [
       "ChatCompletion(id='chatcmpl-BxAHCJkd1KG1N7t72UezPZY6b3J3x', choices=[Choice(finish_reason='stop', index=0, logprobs=None, message=ChatCompletionMessage(content=None, refusal=None, role='assistant', annotations=[], audio=None, function_call=FunctionCall(arguments='{\"name\":\"Varsha\",\"grade\":\"8.5 CGPA\",\"college\":\"SVCE\"}', name='extract_student_info'), tool_calls=None))], created=1753440554, model='gpt-3.5-turbo-0125', object='chat.completion', service_tier='default', system_fingerprint=None, usage=CompletionUsage(completion_tokens=19, prompt_tokens=163, total_tokens=182, completion_tokens_details=CompletionTokensDetails(accepted_prediction_tokens=0, audio_tokens=0, reasoning_tokens=0, rejected_prediction_tokens=0), prompt_tokens_details=PromptTokensDetails(audio_tokens=0, cached_tokens=0)))"
      ]
     },
     "execution_count": 31,
     "metadata": {},
     "output_type": "execute_result"
    }
   ],
   "source": [
    "response2"
   ]
  },
  {
   "cell_type": "code",
   "execution_count": 32,
   "id": "8ff60933-fd5e-40a4-aead-58f926a6a402",
   "metadata": {},
   "outputs": [
    {
     "data": {
      "text/plain": [
       "'{\"name\":\"Varsha\",\"grade\":\"8.5 CGPA\",\"college\":\"SVCE\"}'"
      ]
     },
     "execution_count": 32,
     "metadata": {},
     "output_type": "execute_result"
    }
   ],
   "source": [
    "response2.choices[0].message.function_call.arguments"
   ]
  },
  {
   "cell_type": "code",
   "execution_count": 33,
   "id": "8b4225cc-b6a1-40fe-9548-83356fb912e1",
   "metadata": {},
   "outputs": [
    {
     "data": {
      "text/plain": [
       "{'name': 'Varsha', 'grade': '8.5 CGPA', 'college': 'SVCE'}"
      ]
     },
     "execution_count": 33,
     "metadata": {},
     "output_type": "execute_result"
    }
   ],
   "source": [
    "json.loads(response2.choices[0].message.function_call.arguments)"
   ]
  },
  {
   "cell_type": "code",
   "execution_count": 35,
   "id": "73c620fe-5e32-456c-a877-303b9cfbae15",
   "metadata": {},
   "outputs": [],
   "source": [
    "#use of function calling\n",
    "sd1=\"Varsha is an AI/ML enthusiast, learning happily. She loves building solutions to real-world problems. She is studying at SVCE and has secured an 8.5 CGPA.\""
   ]
  },
  {
   "cell_type": "code",
   "execution_count": 36,
   "id": "fa3b54b6-9e70-4eaf-892b-0bc9a1d39f30",
   "metadata": {},
   "outputs": [],
   "source": [
    "sd2=\"trevor is coding enthusiast. he loves building solutions to real-world problems. She is studying at nmit and has secured an 7.5 CGPA.\""
   ]
  },
  {
   "cell_type": "code",
   "execution_count": 41,
   "id": "576c6239-2c12-4c25-900f-9349d5de6a35",
   "metadata": {},
   "outputs": [
    {
     "name": "stdout",
     "output_type": "stream",
     "text": [
      "{'name': 'Varsha', 'grade': '8.5', 'college': 'SVCE'}\n",
      "{'name': 'Trevor', 'grade': '7.5', 'college': 'NMIT'}\n"
     ]
    }
   ],
   "source": [
    "student_info=[sd1,sd2]\n",
    "for student in student_info:\n",
    "    response= client.chat.completions.create(\n",
    "        model=\"gpt-3.5-turbo\",\n",
    "        messages=[{\"role\": \"user\", \"content\": student}],\n",
    "        functions=student_function,\n",
    "        function_call='auto'\n",
    ")\n",
    "    response=json.loads(response.choices[0].message.function_call.arguments)\n",
    "    print(response)\n",
    "\n",
    "    "
   ]
  },
  {
   "cell_type": "code",
   "execution_count": 46,
   "id": "b115f7c2-01aa-4471-af5c-ac4d8f1d762c",
   "metadata": {},
   "outputs": [],
   "source": [
    "#calling multiple functions is also possible"
   ]
  },
  {
   "cell_type": "code",
   "execution_count": 58,
   "id": "c0425800-e049-4f5a-bf0f-6e427d632887",
   "metadata": {},
   "outputs": [],
   "source": [
    "#advanced function calling example\n",
    "function_destination= [{\n",
    "    \"name\": \"get_flight_info\",\n",
    "    \"description\": \"get the flight infomation between two locations.\",\n",
    "    \"parameters\": {\n",
    "        \"type\":\"object\",\n",
    "        \"properties\":{\n",
    "            \"loc_origin\":{\n",
    "                \"type\":\"string\",\n",
    "                \"description\":\"departure airport ,eg: delhi\" },\n",
    "            \"loc_dest\":{\n",
    "                 \"type\":\"string\",\n",
    "                \"description\":\"destination airport ,eg: mumbai\"},\n",
    "    },\n",
    "     \"required\": [\"loc_origin\", \"loc_dest\"]\n",
    "            }}]"
   ]
  },
  {
   "cell_type": "code",
   "execution_count": 59,
   "id": "201f83a8-d3a2-4059-b74c-fcdb0808482a",
   "metadata": {},
   "outputs": [],
   "source": [
    "user_prompt=\"when is the next flight from delhi to mumbai?\""
   ]
  },
  {
   "cell_type": "code",
   "execution_count": 60,
   "id": "1206f01f-c7bb-461c-9220-e696bf1246f5",
   "metadata": {},
   "outputs": [],
   "source": [
    "response2= client.chat.completions.create(\n",
    "    model=\"gpt-3.5-turbo\",\n",
    "    messages=[{\"role\": \"user\", \"content\": user_prompt}],\n",
    "    functions=function_destination,\n",
    "    function_call=\"auto\"\n",
    ")\n",
    "\n",
    "    "
   ]
  },
  {
   "cell_type": "code",
   "execution_count": 61,
   "id": "0ce041fa-9bfd-47ca-853b-f2840b3a54a6",
   "metadata": {},
   "outputs": [
    {
     "data": {
      "text/plain": [
       "'{\"loc_origin\":\"delhi\",\"loc_dest\":\"mumbai\"}'"
      ]
     },
     "execution_count": 61,
     "metadata": {},
     "output_type": "execute_result"
    }
   ],
   "source": [
    "response2.choices[0].message.function_call.arguments"
   ]
  },
  {
   "cell_type": "code",
   "execution_count": null,
   "id": "6621123a-8773-45c1-878d-fd137a145cd3",
   "metadata": {},
   "outputs": [],
   "source": [
    "#calling third party api to fetch data\n",
    "#this is function acts as api"
   ]
  },
  {
   "cell_type": "code",
   "execution_count": 97,
   "id": "c2d8e61d-2c80-4fe1-857e-6d107b04bac4",
   "metadata": {},
   "outputs": [],
   "source": [
    "import json\n",
    "from datetime import datetime,timedelta\n",
    "def get_flight_info(loc_origin,loc_dest):\n",
    "    flight_info={\n",
    "        \"loc_origin\":loc_origin,\n",
    "        \"loc_dest\":loc_dest,\n",
    "        \"datetime\":str(datetime.now()+timedelta(hours=2)),\n",
    "        \"airline\":\"KLM\",\n",
    "        \"flight\":\"KL643\",\n",
    "     }\n",
    "    return json.dumps(flight_info)"
   ]
  },
  {
   "cell_type": "code",
   "execution_count": 98,
   "id": "a9e1d201-c7b1-437d-b21a-a9ee98e9a394",
   "metadata": {},
   "outputs": [],
   "source": [
    "params=response2.choices[0].message.function_call.arguments"
   ]
  },
  {
   "cell_type": "code",
   "execution_count": 100,
   "id": "f5621a36-8478-46d2-9039-da48db7e3f25",
   "metadata": {},
   "outputs": [],
   "source": [
    "#getting info seperately\n",
    "origin=json.loads(params).get('loc_origin')\n",
    "destination=json.loads(params).get('loc_dest')"
   ]
  },
  {
   "cell_type": "code",
   "execution_count": 112,
   "id": "667431cc-c9e4-43a6-81e9-b54ba367bc97",
   "metadata": {},
   "outputs": [],
   "source": [
    "params1=json.loads(params)"
   ]
  },
  {
   "cell_type": "code",
   "execution_count": 117,
   "id": "a37e2bd2-9e83-471e-bd1f-3ef85ffce85d",
   "metadata": {},
   "outputs": [
    {
     "data": {
      "text/plain": [
       "{'loc_origin': 'delhi', 'loc_dest': 'mumbai'}"
      ]
     },
     "execution_count": 117,
     "metadata": {},
     "output_type": "execute_result"
    }
   ],
   "source": [
    "params1"
   ]
  },
  {
   "cell_type": "code",
   "execution_count": 113,
   "id": "299d7455-1e14-4ac5-9d18-4baa9b24dbaf",
   "metadata": {},
   "outputs": [
    {
     "data": {
      "text/plain": [
       "'get_flight_info'"
      ]
     },
     "execution_count": 113,
     "metadata": {},
     "output_type": "execute_result"
    }
   ],
   "source": [
    "response2.choices[0].message.function_call.name"
   ]
  },
  {
   "cell_type": "code",
   "execution_count": 114,
   "id": "8764b517-6066-44b8-88ba-46eb9281fb45",
   "metadata": {},
   "outputs": [
    {
     "data": {
      "text/plain": [
       "str"
      ]
     },
     "execution_count": 114,
     "metadata": {},
     "output_type": "execute_result"
    }
   ],
   "source": [
    "type(response2.choices[0].message.function_call.name)"
   ]
  },
  {
   "cell_type": "code",
   "execution_count": 115,
   "id": "2a809ef0-f43f-4153-93b1-6f309e8d1a98",
   "metadata": {},
   "outputs": [],
   "source": [
    "chosen_func=eval(response2.choices[0].message.function_call.name)"
   ]
  },
  {
   "cell_type": "code",
   "execution_count": 116,
   "id": "02b3a426-046d-4973-b0d8-58b5ec062dfc",
   "metadata": {},
   "outputs": [
    {
     "name": "stdout",
     "output_type": "stream",
     "text": [
      "{\"loc_origin\": \"delhi\", \"loc_dest\": \"mumbai\", \"datetime\": \"2025-07-25 21:47:18.352826\", \"airline\": \"KLM\", \"flight\": \"KL643\"}\n"
     ]
    }
   ],
   "source": [
    "flight=chosen_func(**params1)\n",
    "print(flight)"
   ]
  },
  {
   "cell_type": "code",
   "execution_count": 122,
   "id": "5df896b0-84ed-497a-b20a-86419ba990bf",
   "metadata": {},
   "outputs": [],
   "source": [
    "response3= client.chat.completions.create(\n",
    "    model=\"gpt-3.5-turbo\",\n",
    "    messages=[{\"role\": \"user\", \"content\": user_prompt},\n",
    "              {\"role\":\"function\",\"name\":response2.choices[0].message.function_call.name,\"content\":flight}],\n",
    "    functions=function_destination, #add function calling\n",
    "    function_call=\"auto\"\n",
    ")\n",
    "\n",
    "    "
   ]
  },
  {
   "cell_type": "code",
   "execution_count": 123,
   "id": "463438c1-016a-4326-854e-4901f5b9b624",
   "metadata": {},
   "outputs": [
    {
     "data": {
      "text/plain": [
       "ChatCompletion(id='chatcmpl-BxDcUK0S8HGakvWxBfMexOj8ITseN', choices=[Choice(finish_reason='stop', index=0, logprobs=None, message=ChatCompletionMessage(content='The next flight from Delhi to Mumbai is on July 25, 2025 with KLM airline. The flight number is KL643.', refusal=None, role='assistant', annotations=[], audio=None, function_call=None, tool_calls=None))], created=1753453406, model='gpt-3.5-turbo-0125', object='chat.completion', service_tier='default', system_fingerprint=None, usage=CompletionUsage(completion_tokens=29, prompt_tokens=143, total_tokens=172, completion_tokens_details=CompletionTokensDetails(accepted_prediction_tokens=0, audio_tokens=0, reasoning_tokens=0, rejected_prediction_tokens=0), prompt_tokens_details=PromptTokensDetails(audio_tokens=0, cached_tokens=0)))"
      ]
     },
     "execution_count": 123,
     "metadata": {},
     "output_type": "execute_result"
    }
   ],
   "source": [
    "response3"
   ]
  },
  {
   "cell_type": "code",
   "execution_count": 126,
   "id": "529da670-a5a8-427b-8eb5-682028f0d68b",
   "metadata": {},
   "outputs": [
    {
     "data": {
      "text/plain": [
       "'The next flight from Delhi to Mumbai is on July 25, 2025 with KLM airline. The flight number is KL643.'"
      ]
     },
     "execution_count": 126,
     "metadata": {},
     "output_type": "execute_result"
    }
   ],
   "source": [
    "response3.choices[0].message.content"
   ]
  },
  {
   "cell_type": "code",
   "execution_count": null,
   "id": "28854d27-2f1e-46ae-9f58-7ab1bd56d610",
   "metadata": {},
   "outputs": [],
   "source": []
  }
 ],
 "metadata": {
  "kernelspec": {
   "display_name": "Python 3 (ipykernel)",
   "language": "python",
   "name": "python3"
  },
  "language_info": {
   "codemirror_mode": {
    "name": "ipython",
    "version": 3
   },
   "file_extension": ".py",
   "mimetype": "text/x-python",
   "name": "python",
   "nbconvert_exporter": "python",
   "pygments_lexer": "ipython3",
   "version": "3.10.18"
  }
 },
 "nbformat": 4,
 "nbformat_minor": 5
}
